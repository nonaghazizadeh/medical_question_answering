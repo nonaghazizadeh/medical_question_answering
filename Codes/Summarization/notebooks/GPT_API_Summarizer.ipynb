{
 "cells": [
  {
   "cell_type": "markdown",
   "metadata": {
    "id": "8Bh0_mJU6pJ_"
   },
   "source": [
    "# Openai"
   ]
  },
  {
   "cell_type": "code",
   "execution_count": 1,
   "metadata": {
    "colab": {
     "base_uri": "https://localhost:8080/"
    },
    "id": "1iRS5BZvy73k",
    "outputId": "7c720b25-b95f-4e7a-dfbe-fe46a87601ff",
    "scrolled": true
   },
   "outputs": [
    {
     "name": "stdout",
     "output_type": "stream",
     "text": [
      "Collecting openai\n",
      "  Downloading openai-0.27.8-py3-none-any.whl (73 kB)\n",
      "\u001b[K     |████████████████████████████████| 73 kB 271 kB/s eta 0:00:011\n",
      "\u001b[?25hRequirement already satisfied: requests>=2.20 in /Users/mohammadreza/opt/anaconda3/lib/python3.8/site-packages (from openai) (2.27.1)\n",
      "Requirement already satisfied: tqdm in /Users/mohammadreza/opt/anaconda3/lib/python3.8/site-packages (from openai) (4.65.0)\n",
      "Requirement already satisfied: aiohttp in /Users/mohammadreza/opt/anaconda3/lib/python3.8/site-packages (from openai) (3.8.4)\n",
      "Requirement already satisfied: idna<4,>=2.5 in /Users/mohammadreza/opt/anaconda3/lib/python3.8/site-packages (from requests>=2.20->openai) (2.10)\n",
      "Requirement already satisfied: certifi>=2017.4.17 in /Users/mohammadreza/opt/anaconda3/lib/python3.8/site-packages (from requests>=2.20->openai) (2022.12.7)\n",
      "Requirement already satisfied: charset-normalizer~=2.0.0 in /Users/mohammadreza/opt/anaconda3/lib/python3.8/site-packages (from requests>=2.20->openai) (2.0.12)\n",
      "Requirement already satisfied: urllib3<1.27,>=1.21.1 in /Users/mohammadreza/opt/anaconda3/lib/python3.8/site-packages (from requests>=2.20->openai) (1.26.4)\n",
      "Requirement already satisfied: aiosignal>=1.1.2 in /Users/mohammadreza/opt/anaconda3/lib/python3.8/site-packages (from aiohttp->openai) (1.3.1)\n",
      "Requirement already satisfied: async-timeout<5.0,>=4.0.0a3 in /Users/mohammadreza/opt/anaconda3/lib/python3.8/site-packages (from aiohttp->openai) (4.0.2)\n",
      "Requirement already satisfied: multidict<7.0,>=4.5 in /Users/mohammadreza/opt/anaconda3/lib/python3.8/site-packages (from aiohttp->openai) (6.0.4)\n",
      "Requirement already satisfied: attrs>=17.3.0 in /Users/mohammadreza/opt/anaconda3/lib/python3.8/site-packages (from aiohttp->openai) (20.3.0)\n",
      "Requirement already satisfied: frozenlist>=1.1.1 in /Users/mohammadreza/opt/anaconda3/lib/python3.8/site-packages (from aiohttp->openai) (1.3.3)\n",
      "Requirement already satisfied: yarl<2.0,>=1.0 in /Users/mohammadreza/opt/anaconda3/lib/python3.8/site-packages (from aiohttp->openai) (1.9.2)\n",
      "Installing collected packages: openai\n",
      "Successfully installed openai-0.27.8\n"
     ]
    }
   ],
   "source": [
    "! pip install openai"
   ]
  },
  {
   "cell_type": "code",
   "execution_count": 41,
   "metadata": {},
   "outputs": [],
   "source": [
    "! pip install -q openai"
   ]
  },
  {
   "cell_type": "code",
   "execution_count": 1,
   "metadata": {},
   "outputs": [],
   "source": [
    "import openai\n",
    "\n",
    "import os"
   ]
  },
  {
   "cell_type": "code",
   "execution_count": 2,
   "metadata": {
    "colab": {
     "base_uri": "https://localhost:8080/",
     "height": 169
    },
    "id": "EDqMoqQF6zCa",
    "outputId": "e583a428-2ffc-4c37-9d39-9afb92f12152"
   },
   "outputs": [],
   "source": [
    "openai.api_key = 'YOUR_APT_KEY'"
   ]
  },
  {
   "cell_type": "code",
   "execution_count": 8,
   "metadata": {},
   "outputs": [],
   "source": [
    "def get_completion(prompt, model=\"gpt-3.5-turbo\", max_tokens=300):\n",
    "    messages = [{\"role\": \"user\", \"content\": prompt}]\n",
    "\n",
    "    response = openai.ChatCompletion.create(\n",
    "        model=model,\n",
    "        messages=messages,\n",
    "        max_tokens=max_tokens,\n",
    "        temperature=0.3,\n",
    "    )\n",
    "\n",
    "    return response.choices[0].message[\"content\"]"
   ]
  },
  {
   "cell_type": "code",
   "execution_count": null,
   "metadata": {},
   "outputs": [],
   "source": [
    "def plain_answer_prompt(summarization, question):\n",
    "    prompt_template = \"\"\"\n",
    "    Based on the provided medical the text delimited by triple backticks, \n",
    "    please answer this question: {question}\n",
    "\n",
    "\n",
    "    ```{summarization}```\n",
    "    \"\"\"\n",
    "    prompt = prompt_template.format(question=question, summarization=summarization)\n",
    "    \n",
    "    return prompt"
   ]
  },
  {
   "cell_type": "code",
   "execution_count": 16,
   "metadata": {},
   "outputs": [],
   "source": [
    "def yes_no_answer_prompt(summarization, question):\n",
    "    prompt_template = \"\"\"\n",
    "    Based on the provided medical the text delimited by triple backticks, \n",
    "    please answer this question with 'yes' or 'no' or 'maybe': {question}\n",
    "\n",
    "\n",
    "    ```{summarization}```\n",
    "    \"\"\"\n",
    "    prompt = prompt_template.format(question=question, summarization=summarization)\n",
    "    \n",
    "    return prompt"
   ]
  },
  {
   "cell_type": "code",
   "execution_count": 9,
   "metadata": {
    "id": "z1lKLd1y7krB"
   },
   "outputs": [],
   "source": [
    "def summarization_prompt(document):\n",
    "    prompt = ''\n",
    "    \n",
    "    prompt_template = \"\"\"\n",
    "    Provide a concise summary of the text delimited by triple backticks.\n",
    "\n",
    "    ```{text}```\n",
    "\n",
    "    The documents contain important medical information that needs to be condensed for quick understanding.\"\n",
    "    \"\"\"\n",
    "    prompt = prompt_template.format(text=document)\n",
    "\n",
    "    return prompt"
   ]
  },
  {
   "cell_type": "markdown",
   "metadata": {},
   "source": [
    "## Summarization"
   ]
  },
  {
   "cell_type": "code",
   "execution_count": 10,
   "metadata": {
    "id": "YF21I57P_nHO"
   },
   "outputs": [],
   "source": [
    "medical_document = \"\"\"\n",
    "Patient History:\n",
    "The patient, a 45-year-old male, presented with complaints of chest pain and shortness of breath. He has a past medical history of hypertension and diabetes. The patient also mentioned a family history of heart disease. On physical examination, the patient had an elevated blood pressure of 160/100 mmHg and a blood glucose level of 180 mg/dL.\n",
    "\n",
    "Diagnosis:\n",
    "Based on the patient's symptoms and medical history, he was diagnosed with acute coronary syndrome. An electrocardiogram (ECG) revealed ST-segment elevation indicative of a myocardial infarction.\n",
    "\n",
    "Treatment:\n",
    "The patient was immediately started on aspirin and clopidogrel to prevent further clot formation. He was also given nitroglycerin to relieve chest pain. The patient was admitted to the coronary care unit for close monitoring.\n",
    "\n",
    "Follow-up:\n",
    "The patient's condition improved over the next few days with a decrease in chest pain and stable vital signs. He was discharged with instructions to continue taking prescribed medications and to follow up with a cardiologist in two weeks.\n",
    "\"\"\""
   ]
  },
  {
   "cell_type": "code",
   "execution_count": 11,
   "metadata": {},
   "outputs": [
    {
     "data": {
      "text/plain": [
       "\"\\n        Provide a concise summary of the triple backquoted medical document.\\n\\n        ```\\nPatient History:\\nThe patient, a 45-year-old male, presented with complaints of chest pain and shortness of breath. He has a past medical history of hypertension and diabetes. The patient also mentioned a family history of heart disease. On physical examination, the patient had an elevated blood pressure of 160/100 mmHg and a blood glucose level of 180 mg/dL.\\n\\nDiagnosis:\\nBased on the patient's symptoms and medical history, he was diagnosed with acute coronary syndrome. An electrocardiogram (ECG) revealed ST-segment elevation indicative of a myocardial infarction.\\n\\nTreatment:\\nThe patient was immediately started on aspirin and clopidogrel to prevent further clot formation. He was also given nitroglycerin to relieve chest pain. The patient was admitted to the coronary care unit for close monitoring.\\n\\nFollow-up:\\nThe patient's condition improved over the next few days with a decrease in chest pain and stable vital signs. He was discharged with instructions to continue taking prescribed medications and to follow up with a cardiologist in two weeks.\\n```\\n        \\n        \""
      ]
     },
     "execution_count": 11,
     "metadata": {},
     "output_type": "execute_result"
    }
   ],
   "source": [
    "mode = 'summarize'\n",
    "summarization_prompt(medical_document)"
   ]
  },
  {
   "cell_type": "code",
   "execution_count": 14,
   "metadata": {
    "id": "1QXgsLQs7v3I"
   },
   "outputs": [
    {
     "data": {
      "text/plain": [
       "\"A 45-year-old male with a history of hypertension and diabetes presented with chest pain and shortness of breath. He had elevated blood pressure and blood glucose levels. The patient was diagnosed with acute coronary syndrome based on his symptoms and medical history. Treatment included aspirin, clopidogrel, and nitroglycerin. The patient's condition improved and he was discharged with instructions for follow-up care.\""
      ]
     },
     "execution_count": 14,
     "metadata": {},
     "output_type": "execute_result"
    }
   ],
   "source": [
    "# summarization\n",
    "prompt = summarization_prompt(medical_document)\n",
    "response = get_completion(prompt)\n",
    "response"
   ]
  },
  {
   "cell_type": "markdown",
   "metadata": {},
   "source": [
    "## Yes/No answer"
   ]
  },
  {
   "cell_type": "code",
   "execution_count": 17,
   "metadata": {},
   "outputs": [
    {
     "data": {
      "text/plain": [
       "\"\\n    Based on the provided medical the text delimited by triple backticks, \\n    please answer this question with 'yes' or 'no' or 'maybe': Are the long-term results of the transanal pull-through equal to those of the transabdominal pull-through?\\n\\n\\n    ```Our long-term study showed significantly better (2-fold) results regarding the continence score for the abdominal approach compared with the transanal pull-through. The stool pattern and enterocolitis scores were somewhat better for the TERPT group. These findings raise an important issue about the current surgical management of HD; however, more cases will need to be studied before a definitive conclusion can be drawn.```\\n    \""
      ]
     },
     "execution_count": 17,
     "metadata": {},
     "output_type": "execute_result"
    }
   ],
   "source": [
    "# Yes No answer\n",
    "summarization = 'Our long-term study showed significantly better (2-fold) results regarding the continence score for the abdominal approach compared with the transanal pull-through. The stool pattern and enterocolitis scores were somewhat better for the TERPT group. These findings raise an important issue about the current surgical management of HD; however, more cases will need to be studied before a definitive conclusion can be drawn.'\n",
    "question = 'Are the long-term results of the transanal pull-through equal to those of the transabdominal pull-through?'\n",
    "prompt = yes_no_answer_prompt(summarization, question)\n",
    "prompt"
   ]
  },
  {
   "cell_type": "code",
   "execution_count": 18,
   "metadata": {},
   "outputs": [
    {
     "data": {
      "text/plain": [
       "'No'"
      ]
     },
     "execution_count": 18,
     "metadata": {},
     "output_type": "execute_result"
    }
   ],
   "source": [
    "response = get_completion(prompt)\n",
    "response"
   ]
  }
 ],
 "metadata": {
  "colab": {
   "provenance": []
  },
  "kernelspec": {
   "display_name": "Python 3",
   "language": "python",
   "name": "python3"
  },
  "language_info": {
   "codemirror_mode": {
    "name": "ipython",
    "version": 3
   },
   "file_extension": ".py",
   "mimetype": "text/x-python",
   "name": "python",
   "nbconvert_exporter": "python",
   "pygments_lexer": "ipython3",
   "version": "3.8.8"
  }
 },
 "nbformat": 4,
 "nbformat_minor": 1
}
